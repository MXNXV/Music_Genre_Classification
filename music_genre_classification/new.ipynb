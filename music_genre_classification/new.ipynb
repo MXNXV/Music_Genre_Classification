{
 "cells": [
  {
   "cell_type": "code",
   "execution_count": 1,
   "metadata": {},
   "outputs": [],
   "source": [
    "import pandas as pd\n",
    "from pathlib import Path\n",
    "import matplotlib.pyplot as plt\n",
    "\n",
    "import pandas as pd\n",
    "from pathlib import Path\n",
    "import matplotlib.pyplot as plt"
   ]
  },
  {
   "cell_type": "code",
   "execution_count": 2,
   "metadata": {},
   "outputs": [
    {
     "name": "stdout",
     "output_type": "stream",
     "text": [
      "\n",
      "Dataset Analysis:\n",
      "Total samples: 999\n"
     ]
    }
   ],
   "source": [
    "dataset = pd.read_json('data\\lyrics.json')\n",
    "print(\"\\nDataset Analysis:\")\n",
    "print(\"Total samples:\", len(dataset))"
   ]
  },
  {
   "cell_type": "code",
   "execution_count": 1,
   "metadata": {},
   "outputs": [],
   "source": [
    "import torch\n",
    "from pathlib import Path\n",
    "import json\n",
    "import logging\n",
    "from datetime import datetime\n",
    "from tqdm import tqdm\n",
    "import gc"
   ]
  },
  {
   "cell_type": "code",
   "execution_count": 3,
   "metadata": {},
   "outputs": [],
   "source": [
    "from data_utils import prepare_data_loaders\n",
    "\n",
    "train_loader, val_loader, test_loader = prepare_data_loaders(\n",
    "    audio_dir='data/audio',\n",
    "    lyrics_file='data/lyrics.json',\n",
    "    batch_size=8\n",
    ")\n"
   ]
  },
  {
   "cell_type": "code",
   "execution_count": 9,
   "metadata": {},
   "outputs": [
    {
     "name": "stdout",
     "output_type": "stream",
     "text": [
      "\n",
      "Verification Results:\n",
      "No missing files detected.\n",
      "No mismatched files detected.\n",
      "\n",
      "Results saved to 'verification_results.json'.\n"
     ]
    }
   ],
   "source": [
    "import os\n",
    "import json\n",
    "from pathlib import Path\n",
    "\n",
    "def verify_dataset(audio_dir, lyrics_file):\n",
    "    \"\"\"\n",
    "    Verifies the dataset by checking if all audio files corresponding to the lyrics entries exist.\n",
    "\n",
    "    Args:\n",
    "        audio_dir (str): Path to the audio directory.\n",
    "        lyrics_file (str): Path to the lyrics JSON file.\n",
    "    \"\"\"\n",
    "    audio_dir = Path(audio_dir)\n",
    "    missing_files = []\n",
    "    mismatched_files = []\n",
    "\n",
    "    # Load lyrics data\n",
    "    with open(lyrics_file, 'r') as file:\n",
    "        lyrics_data = json.load(file)\n",
    "\n",
    "    # Process each entry in lyrics data\n",
    "    for entry in lyrics_data:\n",
    "        track_id = entry['track_id']\n",
    "        genre = str(entry['genre'])\n",
    "        expected_path = audio_dir / genre / f\"{track_id}.wav\"\n",
    "        \n",
    "        # Check if the audio file exists\n",
    "        if not expected_path.exists():\n",
    "            # Check if a similar file exists in the genre directory\n",
    "            genre_folder = audio_dir / genre\n",
    "            if genre_folder.exists():\n",
    "                similar_files = [file.name for file in genre_folder.glob(\"*.wav\") if track_id.split('_')[-1] in file.name]\n",
    "                if similar_files:\n",
    "                    mismatched_files.append((track_id, similar_files))\n",
    "                else:\n",
    "                    missing_files.append(str(expected_path))\n",
    "            else:\n",
    "                missing_files.append(str(expected_path))\n",
    "    \n",
    "    # Print results\n",
    "    print(\"\\nVerification Results:\")\n",
    "    if missing_files:\n",
    "        print(f\"\\nMissing audio files ({len(missing_files)}):\")\n",
    "        for file in missing_files[:10]:  # Display first 10 for brevity\n",
    "            print(file)\n",
    "        print(\"...\")\n",
    "    else:\n",
    "        print(\"No missing files detected.\")\n",
    "\n",
    "    if mismatched_files:\n",
    "        print(f\"\\nMismatched audio files ({len(mismatched_files)}):\")\n",
    "        for track_id, similar in mismatched_files[:10]:  # Display first 10 for brevity\n",
    "            print(f\"Track ID {track_id} has similar files: {', '.join(similar)}\")\n",
    "        print(\"...\")\n",
    "    else:\n",
    "        print(\"No mismatched files detected.\")\n",
    "    \n",
    "    # Optionally, save results to a file\n",
    "    with open('verification_results.json', 'w') as results_file:\n",
    "        json.dump({\n",
    "            \"missing_files\": missing_files,\n",
    "            \"mismatched_files\": mismatched_files\n",
    "        }, results_file, indent=4)\n",
    "    print(\"\\nResults saved to 'verification_results.json'.\")\n",
    "\n",
    "# Example usage\n",
    "audio_directory = \"data/audio\"  # Update with your actual path\n",
    "lyrics_file_path = \"data/lyrics.json\"  # Update with your actual path\n",
    "verify_dataset(audio_directory, lyrics_file_path)\n"
   ]
  },
  {
   "cell_type": "code",
   "execution_count": 1,
   "metadata": {},
   "outputs": [
    {
     "ename": "NameError",
     "evalue": "name 'expected_path' is not defined",
     "output_type": "error",
     "traceback": [
      "\u001b[1;31m---------------------------------------------------------------------------\u001b[0m",
      "\u001b[1;31mNameError\u001b[0m                                 Traceback (most recent call last)",
      "Cell \u001b[1;32mIn[1], line 1\u001b[0m\n\u001b[1;32m----> 1\u001b[0m \u001b[43mexpected_path\u001b[49m\n",
      "\u001b[1;31mNameError\u001b[0m: name 'expected_path' is not defined"
     ]
    }
   ],
   "source": [
    "expected_path"
   ]
  },
  {
   "cell_type": "code",
   "execution_count": null,
   "metadata": {},
   "outputs": [],
   "source": []
  }
 ],
 "metadata": {
  "kernelspec": {
   "display_name": "Python 3",
   "language": "python",
   "name": "python3"
  },
  "language_info": {
   "codemirror_mode": {
    "name": "ipython",
    "version": 3
   },
   "file_extension": ".py",
   "mimetype": "text/x-python",
   "name": "python",
   "nbconvert_exporter": "python",
   "pygments_lexer": "ipython3",
   "version": "3.12.3"
  }
 },
 "nbformat": 4,
 "nbformat_minor": 2
}
